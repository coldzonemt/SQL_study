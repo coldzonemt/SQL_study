{
 "cells": [
  {
   "cell_type": "code",
   "execution_count": 1,
   "id": "3627bbd2-55ba-4dc7-9ba5-55e21b63415f",
   "metadata": {},
   "outputs": [],
   "source": [
    "import sqlite3"
   ]
  },
  {
   "cell_type": "code",
   "execution_count": 2,
   "id": "ba0fb8ae-45bc-488a-b407-3a2d598f1b2b",
   "metadata": {},
   "outputs": [],
   "source": [
    "# Connect to the db\n",
    "connect_to_db = sqlite3.connect('sqlite_db_pythonsqlite.db')"
   ]
  },
  {
   "cell_type": "code",
   "execution_count": 3,
   "id": "beca87d8-b36d-45f8-b7d3-fe6b7a5b0355",
   "metadata": {},
   "outputs": [],
   "source": [
    "# Used to query the database\n",
    "cursor = connect_to_db.cursor()"
   ]
  },
  {
   "cell_type": "code",
   "execution_count": 4,
   "id": "a92fe53e-728d-4837-a224-9f7c2c1d2236",
   "metadata": {},
   "outputs": [
    {
     "name": "stdout",
     "output_type": "stream",
     "text": [
      "(0, 'Tennis Court 1', 5, 25, 10000, 200)\n",
      "(1, 'Tennis Court 2', 5, 25, 8000, 200)\n",
      "(2, 'Badminton Court', 0, 15.5, 4000, 50)\n",
      "(3, 'Table Tennis', 0, 5, 320, 10)\n",
      "(4, 'Massage Room 1', 9.9, 80, 4000, 3000)\n",
      "(5, 'Massage Room 2', 9.9, 80, 4000, 3000)\n",
      "(6, 'Squash Court', 3.5, 17.5, 5000, 80)\n",
      "(7, 'Snooker Table', 0, 5, 450, 15)\n",
      "(8, 'Pool Table', 0, 5, 400, 15)\n"
     ]
    }
   ],
   "source": [
    "# Test the cursor with a query \n",
    "cursor.execute('SELECT * FROM Facilities')\n",
    "# Extract the result\n",
    "result = cursor.fetchall()\n",
    "# Display the result\n",
    "[print(row) for row in result];"
   ]
  },
  {
   "cell_type": "code",
   "execution_count": 10,
   "id": "ad522e25-21ab-469e-9ab2-46a487c0d16e",
   "metadata": {},
   "outputs": [
    {
     "name": "stdout",
     "output_type": "stream",
     "text": [
      "('Badminton Court', 0)\n",
      "('Pool Table', 0)\n",
      "('Snooker Table', 0)\n",
      "('Table Tennis', 0)\n"
     ]
    }
   ],
   "source": [
    "# Q10: Produce a list of facilities with a total revenue less than 1000.\n",
    "# The output of facility name and total revenue, sorted by revenue. Remember\n",
    "# that there's a different cost for guests and members! \n",
    "query = '''\n",
    "SELECT f.name, \n",
    "CASE WHEN m.memid = 0 \n",
    "THEN SUM(f.guestcost * b.slots)\n",
    "ELSE SUM(f.membercost * b.slots)\n",
    "END AS total_cost\n",
    "FROM Bookings as b\n",
    "JOIN Facilities as f ON b.facid = f.facid\n",
    "JOIN Members AS m ON b.memid = m.memid\n",
    "GROUP BY f.name\n",
    "HAVING total_cost < 1000\n",
    "ORDER BY total_cost;\n",
    "'''\n",
    "cursor.execute(query)\n",
    "result = cursor.fetchall()\n",
    "\n",
    "[print(row) for row in result];\n"
   ]
  },
  {
   "cell_type": "code",
   "execution_count": 11,
   "id": "933daeda-aca6-4a1b-90de-e11c7d42a613",
   "metadata": {},
   "outputs": [
    {
     "name": "stdout",
     "output_type": "stream",
     "text": [
      "22\n",
      "('Sarwin, Ramnaresh', 'Bader, Florence')\n",
      "('Coplin, Joan', 'Baker, Timothy')\n",
      "('Genting, Matthew', 'Butters, Gerald')\n",
      "('Baker, Timothy', 'Farrell, Jemima')\n",
      "('Pinker, David', 'Farrell, Jemima')\n",
      "('Rumney, Henrietta', 'Genting, Matthew')\n",
      "('Jones, Douglas', 'Jones, David')\n",
      "('Dare, Nancy', 'Joplette, Janice')\n",
      "('Jones, David', 'Joplette, Janice')\n",
      "('Hunt, John', 'Purview, Millicent')\n",
      "('Boothe, Tim', 'Rownam, Tim')\n",
      "('Joplette, Janice', 'Smith, Darren')\n",
      "('Butters, Gerald', 'Smith, Darren')\n",
      "('Owen, Charles', 'Smith, Darren')\n",
      "('Smith, Jack', 'Smith, Darren')\n",
      "('Mackenzie, Anna', 'Smith, Darren')\n",
      "('Worthington-Smyth, Henry', 'Smith, Tracy')\n",
      "('Purview, Millicent', 'Smith, Tracy')\n",
      "('Crumpet, Erica', 'Smith, Tracy')\n",
      "('Baker, Anne', 'Stibbons, Ponder')\n",
      "('Bader, Florence', 'Stibbons, Ponder')\n",
      "('Stibbons, Ponder', 'Tracy, Burton')\n"
     ]
    }
   ],
   "source": [
    "# Q11: Produce a report of members and who recommended them in alphabetic surname,firstname order\n",
    "# 22 records, supposedly - for some reason this query misses 12 of them?\n",
    "query = '''\n",
    "SELECT \n",
    "\tCONCAT(m.surname, ', ', m.firstname) AS member, \n",
    "    CONCAT(r.surname, ', ', r.firstname) AS recommender\n",
    "FROM Members AS m, Members AS r\n",
    "WHERE m.recommendedby = r.memid AND m.memid != 0 and r.memid !=0\n",
    "ORDER BY recommender ASC;\n",
    "\n",
    "'''\n",
    "cursor.execute(query)\n",
    "result = cursor.fetchall()\n",
    "print(len(result))\n",
    "[print(row) for row in result];"
   ]
  },
  {
   "cell_type": "code",
   "execution_count": 12,
   "id": "b8290113-502b-4276-abab-82409c754c3a",
   "metadata": {},
   "outputs": [
    {
     "name": "stdout",
     "output_type": "stream",
     "text": [
      "('Tennis Court 1', 957)\n",
      "('Tennis Court 2', 882)\n",
      "('Badminton Court', 1086)\n",
      "('Table Tennis', 794)\n",
      "('Massage Room 1', 884)\n",
      "('Massage Room 2', 54)\n",
      "('Squash Court', 418)\n",
      "('Snooker Table', 860)\n",
      "('Pool Table', 856)\n"
     ]
    }
   ],
   "source": [
    "# Q12: Find the facilities with their usage by member, but not guests\n",
    "\n",
    "query = '''\n",
    "SELECT f.name, SUM(b.slots) as number_bookings \n",
    "FROM Bookings as b\n",
    "JOIN Facilities AS f ON b.facid = f.facid\n",
    "WHERE b.memid > 0\n",
    "GROUP BY b.facid;\n",
    "'''\n",
    "cursor.execute(query)\n",
    "result = cursor.fetchall()\n",
    "\n",
    "[print(row) for row in result];"
   ]
  },
  {
   "cell_type": "code",
   "execution_count": 16,
   "id": "a58096d2-cb6d-491c-94e0-dde74ea78bcc",
   "metadata": {},
   "outputs": [
    {
     "name": "stdout",
     "output_type": "stream",
     "text": [
      "('Table Tennis', 1061, '07')\n",
      "('Tennis Court 1', 2531, '08')\n",
      "('Tennis Court 1', 3199, '09')\n"
     ]
    }
   ],
   "source": [
    "# Q13: Find the facilities usage by month, but not guests\n",
    "\n",
    "query = '''\n",
    "SELECT f.name, SUM(b.slots) as number_bookings, strftime('%m', b.starttime) AS month\n",
    "FROM Bookings as b\n",
    "JOIN Facilities AS f ON b.facid = f.facid\n",
    "WHERE b.memid > 0\n",
    "GROUP BY strftime('%m', b.starttime);\n",
    "\n",
    "'''\n",
    "cursor.execute(query)\n",
    "result = cursor.fetchall()\n",
    "\n",
    "[print(row) for row in result];"
   ]
  },
  {
   "cell_type": "code",
   "execution_count": null,
   "id": "06189265-5e6d-4bf6-bf4b-21ba520035a2",
   "metadata": {},
   "outputs": [],
   "source": []
  }
 ],
 "metadata": {
  "kernelspec": {
   "display_name": "Python 3 (ipykernel)",
   "language": "python",
   "name": "python3"
  },
  "language_info": {
   "codemirror_mode": {
    "name": "ipython",
    "version": 3
   },
   "file_extension": ".py",
   "mimetype": "text/x-python",
   "name": "python",
   "nbconvert_exporter": "python",
   "pygments_lexer": "ipython3",
   "version": "3.11.9"
  }
 },
 "nbformat": 4,
 "nbformat_minor": 5
}
